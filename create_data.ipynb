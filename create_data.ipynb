{
 "cells": [
  {
   "cell_type": "code",
   "execution_count": 8,
   "metadata": {},
   "outputs": [],
   "source": [
    "import pandas as pd\n",
    "from random import randint"
   ]
  },
  {
   "cell_type": "code",
   "execution_count": 11,
   "metadata": {},
   "outputs": [],
   "source": [
    "games = pd.read_csv('data/vgsales.csv')\n",
    "names = pd.read_csv('data/names.csv')"
   ]
  },
  {
   "cell_type": "code",
   "execution_count": 14,
   "metadata": {},
   "outputs": [
    {
     "data": {
      "text/plain": [
       "Index(['Rank', 'Name', 'Platform', 'Year', 'Genre', 'Publisher', 'NA_Sales',\n",
       "       'EU_Sales', 'JP_Sales', 'Other_Sales', 'Global_Sales'],\n",
       "      dtype='object')"
      ]
     },
     "execution_count": 14,
     "metadata": {},
     "output_type": "execute_result"
    }
   ],
   "source": [
    "games.columns"
   ]
  },
  {
   "cell_type": "code",
   "execution_count": 15,
   "metadata": {},
   "outputs": [
    {
     "data": {
      "text/plain": [
       "Index(['sex', 'name', 'decade', 'count'], dtype='object')"
      ]
     },
     "execution_count": 15,
     "metadata": {},
     "output_type": "execute_result"
    }
   ],
   "source": [
    "names.columns"
   ]
  },
  {
   "cell_type": "code",
   "execution_count": 12,
   "metadata": {},
   "outputs": [
    {
     "data": {
      "text/plain": [
       "(16598, 11)"
      ]
     },
     "execution_count": 12,
     "metadata": {},
     "output_type": "execute_result"
    }
   ],
   "source": [
    "games.shape"
   ]
  },
  {
   "cell_type": "code",
   "execution_count": 13,
   "metadata": {},
   "outputs": [
    {
     "data": {
      "text/plain": [
       "(108384, 4)"
      ]
     },
     "execution_count": 13,
     "metadata": {},
     "output_type": "execute_result"
    }
   ],
   "source": [
    "names.shape"
   ]
  },
  {
   "cell_type": "code",
   "execution_count": 38,
   "metadata": {},
   "outputs": [],
   "source": [
    "data = {}\n",
    "data2 = {}\n",
    "cont, mingames, maxgames = 0, 1, 20\n",
    "mintimer, maxtimer = 1, 30\n",
    "listgames = []\n",
    "while(cont < 10):\n",
    "    key = randint(0,108384)\n",
    "    ngames = randint(0,maxgames)\n",
    "    cont2 = 0\n",
    "    while(cont2 < ngames):\n",
    "        posgame = randint(0,16598)\n",
    "        namegame = games['Name'][posgame]\n",
    "        timer = randint(mintimer, maxtimer)\n",
    "        \n",
    "        data[names['name'][key]] = listgames\n",
    "        \n",
    "        if( not namegame is listgames):\n",
    "            data2[namegame] = timer\n",
    "\n",
    "        cont2+=1\n",
    "    data[names['name'][key]] = data2\n",
    "    data2 = {}\n",
    "    cont+=1\n",
    "    listgames = []"
   ]
  },
  {
   "cell_type": "code",
   "execution_count": 39,
   "metadata": {},
   "outputs": [
    {
     "data": {
      "text/plain": [
       "{'Alfredo': {'Board Game: Top Shop': 30,\n",
       "  'Crimson Sea 2': 10,\n",
       "  'FIFA Soccer 09': 5,\n",
       "  'LEGO Star Wars III: The Clone Wars': 26,\n",
       "  'Lucha Libre AAA: Heroes del Ring': 16,\n",
       "  'Nanashi no Game': 4,\n",
       "  'Naruto: Uzumaki Chronicles 2 (JP sales)': 7,\n",
       "  'Press Your Luck 2010 Edition': 27,\n",
       "  'Rugby 2004': 28,\n",
       "  'SaGa 2: Hihou Densetsu - Goddess of Destiny': 12,\n",
       "  'Star Fox Adventures': 27,\n",
       "  'Super Mario Land': 14,\n",
       "  'Super Meat Boy: Ultra Edition!': 5,\n",
       "  'Tenchu: Stealth Assassins': 3,\n",
       "  'The First Templar': 3,\n",
       "  'Theme Hospital': 21,\n",
       "  'Top Spin': 25},\n",
       " 'Alyiah': {'Breath of Fire: Dragon Quarter': 18,\n",
       "  'Heavy Fire: Afghanistan': 1},\n",
       " 'Cerenity': {'Athens 2004': 6,\n",
       "  \"Cabela's Trophy Bucks\": 16,\n",
       "  'ESPN NFL 2K5': 10,\n",
       "  'Madden NFL 2004': 2,\n",
       "  'Meru Purana': 29,\n",
       "  'Motto! Stitch! DS Rhythm de Rakugaki Daisakusen': 1,\n",
       "  'NBA Hoopz': 7,\n",
       "  'New Super Luigi U': 22,\n",
       "  'Painkiller: Hell & Damnation': 21,\n",
       "  'Pastel Chime Continue': 22,\n",
       "  'SingStar Chartbreaker': 10,\n",
       "  'Sonic Heroes': 8,\n",
       "  'The Smurfs': 27,\n",
       "  'Tom and Jerry: Infurnal Escape': 12,\n",
       "  'Transformers: Devastation': 4},\n",
       " 'Donald': {'Doraemon 2: Nobita no Toizurando Daibouken': 1, 'TigerShark': 26},\n",
       " 'Efrain': {'Assetto Corsa': 12,\n",
       "  'Batman: Arkham Origins': 17,\n",
       "  'DJ Hero': 2,\n",
       "  'Dance Factory': 12,\n",
       "  'Domino Rally': 28,\n",
       "  'EA Sports Active': 17,\n",
       "  'Ginga Tetsudou 999 DS': 30,\n",
       "  'Jampack Winter 2002': 11,\n",
       "  'NBA Hangtime': 7,\n",
       "  'Need for Speed: Shift 2 Unleashed': 27,\n",
       "  'Nintendo World Cup': 14,\n",
       "  'Playmobil Knights': 5,\n",
       "  'Pokémon Yellow: Special Pikachu Edition': 8,\n",
       "  'Style Lab: Makeover': 7,\n",
       "  'Sébastien Loeb Rally Evo': 3,\n",
       "  'The History Channel: Battle for the Pacific': 17,\n",
       "  'The Legend of Kage 2': 3,\n",
       "  'Winter Sports 2011': 10,\n",
       "  'Yu-Gi-Oh! The Falsebound Kingdom': 10},\n",
       " 'Enrico': {'Blood Bowl': 24,\n",
       "  'BloodRayne 2': 18,\n",
       "  'Densha De Go!': 30,\n",
       "  'Hyper Formation Soccer': 9,\n",
       "  'I-Ninja': 5,\n",
       "  'L.A. Rush': 15,\n",
       "  'Looney Tunes: Back in Action': 12,\n",
       "  'NASCAR: Dirt to Daytona': 29,\n",
       "  'Persona 4: Arena Ultimax': 14,\n",
       "  'Power Pro Kun Pocket 3': 16,\n",
       "  'Re-Volt': 12,\n",
       "  'Shining Blade': 4,\n",
       "  'The Legend of Heroes: Trails in the Sky Third Chapter': 29,\n",
       "  'Wheel of Fortune: 2nd Edition': 22,\n",
       "  'World Soccer Winning Eleven 8: Liveware Evolution': 14,\n",
       "  'Yu-Gi-Oh! Dark Duel Stories': 9,\n",
       "  'ZhuZhu Pets: Quest for Zhu': 18},\n",
       " 'Etienne': {},\n",
       " 'Gene': {'America Oudan Ultra-Quiz': 15,\n",
       "  'Call of Duty 3': 29,\n",
       "  'Digimon World DS': 28,\n",
       "  'Etrian Odyssey': 19,\n",
       "  'Fatal Frame III: The Tormented': 2,\n",
       "  'Gundam Breaker': 24,\n",
       "  'July': 9,\n",
       "  'Katekyoo Hitman Reborn! DS: Flame Rumble Hyper - Moeyo Mirai': 3,\n",
       "  'Kenshuui Tendo Dokuta': 21,\n",
       "  'Kiniro no Corda 2 Encore': 23,\n",
       "  'Medarot 4: Kabuto / Kuwagata Version': 28,\n",
       "  'MotionSports: Adrenaline': 26,\n",
       "  'NBA 2K16': 5,\n",
       "  'NHL 16': 11,\n",
       "  'SpongeBob SquarePants featuring Nicktoons: Globs of Doom': 6,\n",
       "  'Titan Quest': 14,\n",
       "  \"Tom Clancy's Splinter Cell\": 27,\n",
       "  'Ukiyo no Roushi': 3,\n",
       "  'Vin Diesel: Wheelman': 8,\n",
       "  'Wipeout: The Game': 1},\n",
       " 'Gennifer': {'Madagascar: Escape 2 Africa': 6},\n",
       " 'Minor': {'Agatha Christie: Peril at End House': 8,\n",
       "  \"America's Army: Rise of a Soldier\": 3,\n",
       "  'Atari Anthology': 22,\n",
       "  'Athens 2004': 4,\n",
       "  'Captain Toad: Treasure Tracker': 17,\n",
       "  'D.Gray-man: Kami no Shitotachi': 5,\n",
       "  \"Disney's Magical Quest 3 Starring Mickey and Donald\": 15,\n",
       "  'Doom': 18,\n",
       "  'Dungeon Siege III': 27,\n",
       "  'Fishing Master (jp sales)': 1,\n",
       "  'Iron Man': 18,\n",
       "  'My Baby 3 & Friends': 10,\n",
       "  'Ouka Sengoku Portable': 14,\n",
       "  'Rayman 2: The Great Escape': 4,\n",
       "  'Red Stone DS: Akaki Ishi ni Michibikareshi Monotachi': 19,\n",
       "  'Ring of Red': 24,\n",
       "  'RoadKill': 6,\n",
       "  'Scared Rider Xechs': 19,\n",
       "  'Silent Hill: Shattered Memories': 3,\n",
       "  \"The King of Fighters '96\": 3}}"
      ]
     },
     "execution_count": 39,
     "metadata": {},
     "output_type": "execute_result"
    }
   ],
   "source": [
    "data"
   ]
  },
  {
   "cell_type": "code",
   "execution_count": null,
   "metadata": {},
   "outputs": [],
   "source": []
  }
 ],
 "metadata": {
  "kernelspec": {
   "display_name": "Python 3",
   "language": "python",
   "name": "python3"
  },
  "language_info": {
   "codemirror_mode": {
    "name": "ipython",
    "version": 3
   },
   "file_extension": ".py",
   "mimetype": "text/x-python",
   "name": "python",
   "nbconvert_exporter": "python",
   "pygments_lexer": "ipython3",
   "version": "3.6.4"
  }
 },
 "nbformat": 4,
 "nbformat_minor": 2
}
