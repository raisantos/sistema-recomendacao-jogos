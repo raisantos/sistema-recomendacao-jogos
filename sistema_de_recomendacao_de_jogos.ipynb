{
 "cells": [
  {
   "cell_type": "markdown",
   "metadata": {},
   "source": [
    "# Sistema de Recomendação de Jogos baseado nas horas que o usuário passou jogando determinado jogo"
   ]
  },
  {
   "cell_type": "code",
   "execution_count": 52,
   "metadata": {
    "collapsed": true
   },
   "outputs": [],
   "source": [
    "import pandas as pd\n",
    "from random import randint\n",
    "import math"
   ]
  },
  {
   "cell_type": "markdown",
   "metadata": {},
   "source": [
    "# Leitura de dados de pessoas e jogos"
   ]
  },
  {
   "cell_type": "code",
   "execution_count": 53,
   "metadata": {
    "collapsed": true
   },
   "outputs": [],
   "source": [
    "\n",
    "games = pd.read_csv('data/vgsales.csv')\n",
    "names = pd.read_csv('data/names.csv')"
   ]
  },
  {
   "cell_type": "code",
   "execution_count": 54,
   "metadata": {},
   "outputs": [
    {
     "data": {
      "text/plain": [
       "Index(['Rank', 'Name', 'Platform', 'Year', 'Genre', 'Publisher', 'NA_Sales',\n",
       "       'EU_Sales', 'JP_Sales', 'Other_Sales', 'Global_Sales'],\n",
       "      dtype='object')"
      ]
     },
     "execution_count": 54,
     "metadata": {},
     "output_type": "execute_result"
    }
   ],
   "source": [
    "games.columns"
   ]
  },
  {
   "cell_type": "code",
   "execution_count": 55,
   "metadata": {},
   "outputs": [
    {
     "data": {
      "text/plain": [
       "Index(['sex', 'name', 'decade', 'count'], dtype='object')"
      ]
     },
     "execution_count": 55,
     "metadata": {},
     "output_type": "execute_result"
    }
   ],
   "source": [
    "names.columns"
   ]
  },
  {
   "cell_type": "code",
   "execution_count": 56,
   "metadata": {},
   "outputs": [
    {
     "data": {
      "text/plain": [
       "(16598, 11)"
      ]
     },
     "execution_count": 56,
     "metadata": {},
     "output_type": "execute_result"
    }
   ],
   "source": [
    "games.shape"
   ]
  },
  {
   "cell_type": "code",
   "execution_count": 57,
   "metadata": {},
   "outputs": [
    {
     "data": {
      "text/plain": [
       "(108384, 4)"
      ]
     },
     "execution_count": 57,
     "metadata": {},
     "output_type": "execute_result"
    }
   ],
   "source": [
    "names.shape"
   ]
  },
  {
   "cell_type": "code",
   "execution_count": 58,
   "metadata": {},
   "outputs": [
    {
     "data": {
      "text/plain": [
       "0                   Wii Sports\n",
       "1            Super Mario Bros.\n",
       "2               Mario Kart Wii\n",
       "3            Wii Sports Resort\n",
       "4     Pokemon Red/Pokemon Blue\n",
       "5                       Tetris\n",
       "6        New Super Mario Bros.\n",
       "7                     Wii Play\n",
       "8    New Super Mario Bros. Wii\n",
       "9                    Duck Hunt\n",
       "Name: Name, dtype: object"
      ]
     },
     "execution_count": 58,
     "metadata": {},
     "output_type": "execute_result"
    }
   ],
   "source": [
    "filtergames = games[0:10]\n",
    "filtergames['Name']"
   ]
  },
  {
   "cell_type": "markdown",
   "metadata": {},
   "source": [
    "# Geração da matriz de usuárioxjogos"
   ]
  },
  {
   "cell_type": "code",
   "execution_count": 59,
   "metadata": {
    "collapsed": true
   },
   "outputs": [],
   "source": [
    "data = {}\n",
    "data2 = {}\n",
    "cont, mingames, maxgames = 0, 1, 20\n",
    "mintimer, maxtimer = 1, 30\n",
    "listgames = []\n",
    "while(cont < 20):\n",
    "    key = randint(0,108384)\n",
    "    ngames = randint(0,maxgames)\n",
    "    cont2 = 0\n",
    "    while(cont2 < ngames):\n",
    "        posgame = randint(0,9)\n",
    "        namegame = filtergames['Name'][posgame]\n",
    "        timer = randint(mintimer, maxtimer)\n",
    "        \n",
    "        data[names['name'][key]] = listgames\n",
    "        \n",
    "        if( not namegame is listgames):\n",
    "            data2[namegame] = timer\n",
    "\n",
    "        cont2+=1\n",
    "    data[names['name'][key]] = data2\n",
    "    data2 = {}\n",
    "    cont+=1\n",
    "    listgames = []"
   ]
  },
  {
   "cell_type": "markdown",
   "metadata": {},
   "source": [
    "# Matriz usuáriosxjogos"
   ]
  },
  {
   "cell_type": "code",
   "execution_count": 61,
   "metadata": {},
   "outputs": [
    {
     "data": {
      "text/plain": [
       "{'Andy': {'Duck Hunt': 20,\n",
       "  'Mario Kart Wii': 12,\n",
       "  'New Super Mario Bros.': 17,\n",
       "  'New Super Mario Bros. Wii': 17,\n",
       "  'Pokemon Red/Pokemon Blue': 5,\n",
       "  'Super Mario Bros.': 14,\n",
       "  'Tetris': 9,\n",
       "  'Wii Play': 9,\n",
       "  'Wii Sports': 16,\n",
       "  'Wii Sports Resort': 6},\n",
       " 'Apple': {'Duck Hunt': 11,\n",
       "  'New Super Mario Bros. Wii': 15,\n",
       "  'Pokemon Red/Pokemon Blue': 26,\n",
       "  'Tetris': 10,\n",
       "  'Wii Sports Resort': 5},\n",
       " 'Arvella': {'Duck Hunt': 9,\n",
       "  'New Super Mario Bros.': 30,\n",
       "  'New Super Mario Bros. Wii': 29,\n",
       "  'Pokemon Red/Pokemon Blue': 3,\n",
       "  'Super Mario Bros.': 20,\n",
       "  'Tetris': 25,\n",
       "  'Wii Play': 23,\n",
       "  'Wii Sports': 16,\n",
       "  'Wii Sports Resort': 18},\n",
       " 'Charmain': {'Duck Hunt': 13,\n",
       "  'Mario Kart Wii': 3,\n",
       "  'New Super Mario Bros.': 13,\n",
       "  'Pokemon Red/Pokemon Blue': 12,\n",
       "  'Tetris': 8,\n",
       "  'Wii Sports': 30,\n",
       "  'Wii Sports Resort': 8},\n",
       " 'Claude': {'Mario Kart Wii': 22,\n",
       "  'New Super Mario Bros.': 9,\n",
       "  'New Super Mario Bros. Wii': 15,\n",
       "  'Pokemon Red/Pokemon Blue': 19,\n",
       "  'Super Mario Bros.': 12,\n",
       "  'Tetris': 25,\n",
       "  'Wii Play': 8,\n",
       "  'Wii Sports Resort': 21},\n",
       " 'Deric': {'Duck Hunt': 24, 'Wii Sports Resort': 20},\n",
       " 'Hasmik': {'Duck Hunt': 25,\n",
       "  'Mario Kart Wii': 19,\n",
       "  'New Super Mario Bros.': 1,\n",
       "  'Super Mario Bros.': 25,\n",
       "  'Tetris': 9,\n",
       "  'Wii Play': 21,\n",
       "  'Wii Sports': 9},\n",
       " 'Indiana': {'Duck Hunt': 26,\n",
       "  'Mario Kart Wii': 24,\n",
       "  'New Super Mario Bros.': 21,\n",
       "  'Pokemon Red/Pokemon Blue': 9,\n",
       "  'Super Mario Bros.': 16,\n",
       "  'Tetris': 21,\n",
       "  'Wii Play': 30,\n",
       "  'Wii Sports': 29,\n",
       "  'Wii Sports Resort': 13},\n",
       " 'Iraida': {'Mario Kart Wii': 5,\n",
       "  'New Super Mario Bros.': 25,\n",
       "  'New Super Mario Bros. Wii': 2,\n",
       "  'Pokemon Red/Pokemon Blue': 9,\n",
       "  'Wii Play': 10,\n",
       "  'Wii Sports': 4,\n",
       "  'Wii Sports Resort': 16},\n",
       " 'Jaclyn': {'Mario Kart Wii': 3,\n",
       "  'New Super Mario Bros.': 9,\n",
       "  'New Super Mario Bros. Wii': 24,\n",
       "  'Super Mario Bros.': 18,\n",
       "  'Tetris': 1,\n",
       "  'Wii Play': 19,\n",
       "  'Wii Sports': 30,\n",
       "  'Wii Sports Resort': 28},\n",
       " 'Jaelee': {'New Super Mario Bros.': 25, 'Pokemon Red/Pokemon Blue': 13},\n",
       " 'Janell': {'Duck Hunt': 27,\n",
       "  'Mario Kart Wii': 22,\n",
       "  'New Super Mario Bros.': 28,\n",
       "  'Tetris': 30,\n",
       "  'Wii Play': 13,\n",
       "  'Wii Sports': 10,\n",
       "  'Wii Sports Resort': 10},\n",
       " 'Leone': {'Mario Kart Wii': 19, 'Wii Sports': 9},\n",
       " 'Marlon': {'Duck Hunt': 14,\n",
       "  'Mario Kart Wii': 10,\n",
       "  'New Super Mario Bros.': 8,\n",
       "  'New Super Mario Bros. Wii': 26,\n",
       "  'Pokemon Red/Pokemon Blue': 16,\n",
       "  'Super Mario Bros.': 17,\n",
       "  'Tetris': 15,\n",
       "  'Wii Play': 8,\n",
       "  'Wii Sports': 26},\n",
       " 'Obadiah': {'Duck Hunt': 18,\n",
       "  'New Super Mario Bros.': 14,\n",
       "  'New Super Mario Bros. Wii': 18,\n",
       "  'Tetris': 20,\n",
       "  'Wii Sports': 4},\n",
       " 'Owen': {'Duck Hunt': 4,\n",
       "  'Mario Kart Wii': 3,\n",
       "  'New Super Mario Bros.': 14,\n",
       "  'New Super Mario Bros. Wii': 24,\n",
       "  'Pokemon Red/Pokemon Blue': 10,\n",
       "  'Super Mario Bros.': 23,\n",
       "  'Tetris': 17,\n",
       "  'Wii Play': 20,\n",
       "  'Wii Sports': 3},\n",
       " 'Samarth': {'New Super Mario Bros. Wii': 17},\n",
       " 'Shai': {'Duck Hunt': 28,\n",
       "  'Mario Kart Wii': 2,\n",
       "  'New Super Mario Bros.': 3,\n",
       "  'Tetris': 27,\n",
       "  'Wii Play': 29,\n",
       "  'Wii Sports': 12},\n",
       " 'Ventura': {'New Super Mario Bros.': 20, 'Tetris': 12},\n",
       " 'Wilmer': {'Duck Hunt': 11,\n",
       "  'Mario Kart Wii': 8,\n",
       "  'New Super Mario Bros. Wii': 3,\n",
       "  'Pokemon Red/Pokemon Blue': 30,\n",
       "  'Super Mario Bros.': 25,\n",
       "  'Tetris': 26,\n",
       "  'Wii Play': 3}}"
      ]
     },
     "execution_count": 61,
     "metadata": {},
     "output_type": "execute_result"
    }
   ],
   "source": [
    "users = data\n",
    "users"
   ]
  },
  {
   "cell_type": "markdown",
   "metadata": {},
   "source": [
    "# Função para calcular a similaridade do cosseno"
   ]
  },
  {
   "cell_type": "code",
   "execution_count": 64,
   "metadata": {},
   "outputs": [],
   "source": [
    "def cossenoSimilarity(hoursPlayed1, hoursPlayed2):\n",
    "    numerator = 0 #x * y\n",
    "    x_comp = 0 # ||x||\n",
    "    y_comp = 0 # ||y||\n",
    "    for key in hoursPlayed1:\n",
    "        x_comp = x_comp + pow(hoursPlayed1[key], 2)\n",
    "        if key in hoursPlayed2:\n",
    "            numerator = numerator + (hoursPlayed1[key]*hoursPlayed2[key])\n",
    "    for key in hoursPlayed2:\n",
    "        y_comp = y_comp + pow(hoursPlayed2[key], 2)\n",
    "    denominator = math.sqrt(x_comp) * math.sqrt(y_comp)\n",
    "    if denominator == 0:\n",
    "        return 0\n",
    "    else:\n",
    "        return numerator / denominator"
   ]
  },
  {
   "cell_type": "markdown",
   "metadata": {},
   "source": [
    "# Função para calcular as distâncias entre um usuário e seus vizinhos"
   ]
  },
  {
   "cell_type": "code",
   "execution_count": 65,
   "metadata": {
    "collapsed": true
   },
   "outputs": [],
   "source": [
    "#nearest neighbors from a username function\n",
    "def computeNearestNeighbor(username, users):\n",
    "    distances = []\n",
    "    for user in users:\n",
    "        if user != username:\n",
    "        \tdistance = cossenoSimilarity(users[user], users[username])\n",
    "        \tdistances.append((distance, user))\n",
    "    distances.sort()\n",
    "    return distances\n",
    "#print(\"\\n\\n##### VIZINHOS MAIS PRÓXIMOS #####\")  \n",
    "#print (computeNearestNeighbor('Precious', users))"
   ]
  },
  {
   "cell_type": "markdown",
   "metadata": {},
   "source": [
    "# Função de recomendação de jogos"
   ]
  },
  {
   "cell_type": "code",
   "execution_count": 70,
   "metadata": {},
   "outputs": [],
   "source": [
    "#reccomender bands to a username function\n",
    "def recommend(username, users):\n",
    "    neighbors = computeNearestNeighbor(username, users)\n",
    "    print(\"\\n\\n##### VIZINHOS MAIS PRÓXIMOS #####\")\n",
    "    print(neighbors)\n",
    "    nearest = neighbors[len(neighbors)-1][1]\n",
    "    print('\\nVIZINHO MAIS PRÓXIMO = '+nearest)\n",
    "    recommendations = []\n",
    "    neighborHoursPlayed = users[nearest]\n",
    "    print (neighborHoursPlayed)\n",
    "    userHoursPlayed = users[username]\n",
    "    print('\\nUSUÁRIO ALVO = '+username)\n",
    "    print (userHoursPlayed)\n",
    "    for game in neighborHoursPlayed:\n",
    "        if not game in userHoursPlayed:\n",
    "            recommendations.append((game, neighborHoursPlayed[game]))\n",
    "    print(\"\\n\\n##### RECOMENDAÇÃO #####\")\n",
    "    return sorted(recommendations, key = lambda artistTuple: artistTuple[1], reverse = True)"
   ]
  },
  {
   "cell_type": "code",
   "execution_count": 72,
   "metadata": {},
   "outputs": [
    {
     "name": "stdout",
     "output_type": "stream",
     "text": [
      "Fazer recomendação para: Shai\n",
      "\n",
      "\n",
      "##### VIZINHOS MAIS PRÓXIMOS #####\n",
      "[(0.0, 'Samarth'), (0.053116280516322854, 'Jaelee'), (0.1385856824333031, 'Leone'), (0.2537132803984117, 'Iraida'), (0.3285552552713053, 'Ventura'), (0.3405828482526757, 'Apple'), (0.35167782916401086, 'Jaclyn'), (0.3963324454405315, 'Claude'), (0.429260579830389, 'Deric'), (0.4530066488966367, 'Wilmer'), (0.504352278545827, 'Charmain'), (0.5347691493777965, 'Owen'), (0.5477687059767163, 'Marlon'), (0.5945493133257376, 'Arvella'), (0.6265859617410455, 'Andy'), (0.637535577754862, 'Obadiah'), (0.721263727492398, 'Hasmik'), (0.7650871907998124, 'Janell'), (0.791140919545218, 'Indiana')]\n",
      "\n",
      "VIZINHO MAIS PRÓXIMO = Indiana\n",
      "{'Super Mario Bros.': 16, 'Duck Hunt': 26, 'Wii Sports': 29, 'Pokemon Red/Pokemon Blue': 9, 'Mario Kart Wii': 24, 'Wii Play': 30, 'New Super Mario Bros.': 21, 'Tetris': 21, 'Wii Sports Resort': 13}\n",
      "\n",
      "USUÁRIO ALVO = Shai\n",
      "{'Tetris': 27, 'Wii Play': 29, 'Wii Sports': 12, 'Duck Hunt': 28, 'Mario Kart Wii': 2, 'New Super Mario Bros.': 3}\n",
      "\n",
      "\n",
      "##### RECOMENDAÇÃO #####\n",
      "[('Super Mario Bros.', 16), ('Wii Sports Resort', 13), ('Pokemon Red/Pokemon Blue', 9)]\n"
     ]
    }
   ],
   "source": [
    "username = str(input(\"Fazer recomendação para: \"))\n",
    "print(recommend(username, users))"
   ]
  },
  {
   "cell_type": "code",
   "execution_count": null,
   "metadata": {
    "collapsed": true
   },
   "outputs": [],
   "source": []
  }
 ],
 "metadata": {
  "kernelspec": {
   "display_name": "Python 3",
   "language": "python",
   "name": "python3"
  },
  "language_info": {
   "codemirror_mode": {
    "name": "ipython",
    "version": 3
   },
   "file_extension": ".py",
   "mimetype": "text/x-python",
   "name": "python",
   "nbconvert_exporter": "python",
   "pygments_lexer": "ipython3",
   "version": "3.6.1"
  }
 },
 "nbformat": 4,
 "nbformat_minor": 2
}
