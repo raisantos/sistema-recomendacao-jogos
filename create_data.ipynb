{
 "cells": [
  {
   "cell_type": "code",
   "execution_count": 1,
   "metadata": {},
   "outputs": [],
   "source": [
    "import pandas as pd\n",
    "from random import randint"
   ]
  },
  {
   "cell_type": "code",
   "execution_count": 2,
   "metadata": {},
   "outputs": [],
   "source": [
    "games = pd.read_csv('data/vgsales.csv')\n",
    "names = pd.read_csv('data/names.csv')"
   ]
  },
  {
   "cell_type": "code",
   "execution_count": 3,
   "metadata": {},
   "outputs": [
    {
     "data": {
      "text/plain": [
       "Index([u'Rank', u'Name', u'Platform', u'Year', u'Genre', u'Publisher',\n",
       "       u'NA_Sales', u'EU_Sales', u'JP_Sales', u'Other_Sales', u'Global_Sales'],\n",
       "      dtype='object')"
      ]
     },
     "execution_count": 3,
     "metadata": {},
     "output_type": "execute_result"
    }
   ],
   "source": [
    "games.columns"
   ]
  },
  {
   "cell_type": "code",
   "execution_count": 4,
   "metadata": {},
   "outputs": [
    {
     "data": {
      "text/plain": [
       "Index([u'sex', u'name', u'decade', u'count'], dtype='object')"
      ]
     },
     "execution_count": 4,
     "metadata": {},
     "output_type": "execute_result"
    }
   ],
   "source": [
    "names.columns"
   ]
  },
  {
   "cell_type": "code",
   "execution_count": 5,
   "metadata": {},
   "outputs": [
    {
     "data": {
      "text/plain": [
       "(16598, 11)"
      ]
     },
     "execution_count": 5,
     "metadata": {},
     "output_type": "execute_result"
    }
   ],
   "source": [
    "games.shape"
   ]
  },
  {
   "cell_type": "code",
   "execution_count": 6,
   "metadata": {},
   "outputs": [
    {
     "data": {
      "text/plain": [
       "(108384, 4)"
      ]
     },
     "execution_count": 6,
     "metadata": {},
     "output_type": "execute_result"
    }
   ],
   "source": [
    "names.shape"
   ]
  },
  {
   "cell_type": "code",
   "execution_count": 15,
   "metadata": {},
   "outputs": [
    {
     "data": {
      "text/plain": [
       "0                   Wii Sports\n",
       "1            Super Mario Bros.\n",
       "2               Mario Kart Wii\n",
       "3            Wii Sports Resort\n",
       "4     Pokemon Red/Pokemon Blue\n",
       "5                       Tetris\n",
       "6        New Super Mario Bros.\n",
       "7                     Wii Play\n",
       "8    New Super Mario Bros. Wii\n",
       "9                    Duck Hunt\n",
       "Name: Name, dtype: object"
      ]
     },
     "execution_count": 15,
     "metadata": {},
     "output_type": "execute_result"
    }
   ],
   "source": [
    "filtergames = games[0:10]\n",
    "filtergames['Name']"
   ]
  },
  {
   "cell_type": "code",
   "execution_count": 16,
   "metadata": {},
   "outputs": [],
   "source": [
    "data = {}\n",
    "data2 = {}\n",
    "cont, mingames, maxgames = 0, 1, 20\n",
    "mintimer, maxtimer = 1, 30\n",
    "listgames = []\n",
    "while(cont < 10):\n",
    "    key = randint(0,108384)\n",
    "    ngames = randint(0,maxgames)\n",
    "    cont2 = 0\n",
    "    while(cont2 < ngames):\n",
    "        posgame = randint(0,9)\n",
    "        namegame = filtergames['Name'][posgame]\n",
    "        timer = randint(mintimer, maxtimer)\n",
    "        \n",
    "        data[names['name'][key]] = listgames\n",
    "        \n",
    "        if( not namegame is listgames):\n",
    "            data2[namegame] = timer\n",
    "\n",
    "        cont2+=1\n",
    "    data[names['name'][key]] = data2\n",
    "    data2 = {}\n",
    "    cont+=1\n",
    "    listgames = []"
   ]
  },
  {
   "cell_type": "code",
   "execution_count": 18,
   "metadata": {},
   "outputs": [],
   "source": [
    "import math"
   ]
  },
  {
   "cell_type": "code",
   "execution_count": 21,
   "metadata": {},
   "outputs": [
    {
     "data": {
      "text/plain": [
       "{'Blimi': {'Duck Hunt': 22,\n",
       "  'New Super Mario Bros.': 25,\n",
       "  'New Super Mario Bros. Wii': 27,\n",
       "  'Super Mario Bros.': 4,\n",
       "  'Tetris': 3,\n",
       "  'Wii Play': 25,\n",
       "  'Wii Sports': 11},\n",
       " 'Branton': {'Mario Kart Wii': 14,\n",
       "  'New Super Mario Bros.': 13,\n",
       "  'New Super Mario Bros. Wii': 12,\n",
       "  'Pokemon Red/Pokemon Blue': 14,\n",
       "  'Wii Sports Resort': 8},\n",
       " 'Chananya': {'New Super Mario Bros.': 17,\n",
       "  'New Super Mario Bros. Wii': 20,\n",
       "  'Tetris': 5,\n",
       "  'Wii Play': 15,\n",
       "  'Wii Sports': 15,\n",
       "  'Wii Sports Resort': 23},\n",
       " 'Emil': {'Duck Hunt': 16,\n",
       "  'New Super Mario Bros.': 12,\n",
       "  'New Super Mario Bros. Wii': 15,\n",
       "  'Super Mario Bros.': 21,\n",
       "  'Tetris': 24,\n",
       "  'Wii Play': 30,\n",
       "  'Wii Sports': 13,\n",
       "  'Wii Sports Resort': 13},\n",
       " 'Hector': {'New Super Mario Bros.': 11,\n",
       "  'New Super Mario Bros. Wii': 13,\n",
       "  'Pokemon Red/Pokemon Blue': 29,\n",
       "  'Super Mario Bros.': 7,\n",
       "  'Tetris': 5,\n",
       "  'Wii Play': 13,\n",
       "  'Wii Sports': 2,\n",
       "  'Wii Sports Resort': 8},\n",
       " 'Jesslyn': {'Duck Hunt': 21,\n",
       "  'Mario Kart Wii': 12,\n",
       "  'New Super Mario Bros.': 28,\n",
       "  'New Super Mario Bros. Wii': 30,\n",
       "  'Pokemon Red/Pokemon Blue': 15,\n",
       "  'Tetris': 26},\n",
       " 'Lux': {'New Super Mario Bros.': 14},\n",
       " 'Marianna': {'Duck Hunt': 20,\n",
       "  'Mario Kart Wii': 27,\n",
       "  'New Super Mario Bros.': 13,\n",
       "  'Super Mario Bros.': 14,\n",
       "  'Tetris': 9,\n",
       "  'Wii Play': 19,\n",
       "  'Wii Sports': 11,\n",
       "  'Wii Sports Resort': 22},\n",
       " 'Mayda': {},\n",
       " 'Tarrah': {'Duck Hunt': 21,\n",
       "  'Mario Kart Wii': 5,\n",
       "  'New Super Mario Bros.': 5,\n",
       "  'New Super Mario Bros. Wii': 15,\n",
       "  'Tetris': 22,\n",
       "  'Wii Play': 10,\n",
       "  'Wii Sports': 25,\n",
       "  'Wii Sports Resort': 4}}"
      ]
     },
     "execution_count": 21,
     "metadata": {},
     "output_type": "execute_result"
    }
   ],
   "source": [
    "users = data\n",
    "users"
   ]
  },
  {
   "cell_type": "code",
   "execution_count": 20,
   "metadata": {},
   "outputs": [
    {
     "name": "stdout",
     "output_type": "stream",
     "text": [
      "\n",
      "\n",
      "##### VIZINHOS MAIS PRÓXIMOS #####\n"
     ]
    },
    {
     "ename": "KeyError",
     "evalue": "'Gennifer'",
     "output_type": "error",
     "traceback": [
      "\u001b[0;31m---------------------------------------------------------------------------\u001b[0m",
      "\u001b[0;31mKeyError\u001b[0m                                  Traceback (most recent call last)",
      "\u001b[0;32m<ipython-input-20-b61ac6494b4d>\u001b[0m in \u001b[0;36m<module>\u001b[0;34m()\u001b[0m\n\u001b[1;32m     24\u001b[0m     \u001b[0;32mreturn\u001b[0m \u001b[0mdistances\u001b[0m\u001b[0;34m\u001b[0m\u001b[0m\n\u001b[1;32m     25\u001b[0m \u001b[0;32mprint\u001b[0m\u001b[0;34m(\u001b[0m\u001b[0;34m\"\\n\\n##### VIZINHOS MAIS PRÓXIMOS #####\"\u001b[0m\u001b[0;34m)\u001b[0m\u001b[0;34m\u001b[0m\u001b[0m\n\u001b[0;32m---> 26\u001b[0;31m \u001b[0;32mprint\u001b[0m \u001b[0;34m(\u001b[0m\u001b[0mcomputeNearestNeighbor\u001b[0m\u001b[0;34m(\u001b[0m\u001b[0;34m'Gennifer'\u001b[0m\u001b[0;34m,\u001b[0m \u001b[0musers\u001b[0m\u001b[0;34m)\u001b[0m\u001b[0;34m)\u001b[0m\u001b[0;34m\u001b[0m\u001b[0m\n\u001b[0m\u001b[1;32m     27\u001b[0m \u001b[0;34m\u001b[0m\u001b[0m\n\u001b[1;32m     28\u001b[0m \u001b[0;31m#reccomender bands to a username function\u001b[0m\u001b[0;34m\u001b[0m\u001b[0;34m\u001b[0m\u001b[0m\n",
      "\u001b[0;32m<ipython-input-20-b61ac6494b4d>\u001b[0m in \u001b[0;36mcomputeNearestNeighbor\u001b[0;34m(username, users)\u001b[0m\n\u001b[1;32m     19\u001b[0m     \u001b[0;32mfor\u001b[0m \u001b[0muser\u001b[0m \u001b[0;32min\u001b[0m \u001b[0musers\u001b[0m\u001b[0;34m:\u001b[0m\u001b[0;34m\u001b[0m\u001b[0m\n\u001b[1;32m     20\u001b[0m         \u001b[0;32mif\u001b[0m \u001b[0muser\u001b[0m \u001b[0;34m!=\u001b[0m \u001b[0musername\u001b[0m\u001b[0;34m:\u001b[0m\u001b[0;34m\u001b[0m\u001b[0m\n\u001b[0;32m---> 21\u001b[0;31m                 \u001b[0mdistance\u001b[0m \u001b[0;34m=\u001b[0m \u001b[0mcossenoSimilarity\u001b[0m\u001b[0;34m(\u001b[0m\u001b[0musers\u001b[0m\u001b[0;34m[\u001b[0m\u001b[0muser\u001b[0m\u001b[0;34m]\u001b[0m\u001b[0;34m,\u001b[0m \u001b[0musers\u001b[0m\u001b[0;34m[\u001b[0m\u001b[0musername\u001b[0m\u001b[0;34m]\u001b[0m\u001b[0;34m)\u001b[0m\u001b[0;34m\u001b[0m\u001b[0m\n\u001b[0m\u001b[1;32m     22\u001b[0m                 \u001b[0mdistances\u001b[0m\u001b[0;34m.\u001b[0m\u001b[0mappend\u001b[0m\u001b[0;34m(\u001b[0m\u001b[0;34m(\u001b[0m\u001b[0mdistance\u001b[0m\u001b[0;34m,\u001b[0m \u001b[0muser\u001b[0m\u001b[0;34m)\u001b[0m\u001b[0;34m)\u001b[0m\u001b[0;34m\u001b[0m\u001b[0m\n\u001b[1;32m     23\u001b[0m     \u001b[0mdistances\u001b[0m\u001b[0;34m.\u001b[0m\u001b[0msort\u001b[0m\u001b[0;34m(\u001b[0m\u001b[0;34m)\u001b[0m\u001b[0;34m\u001b[0m\u001b[0m\n",
      "\u001b[0;31mKeyError\u001b[0m: 'Gennifer'"
     ]
    }
   ],
   "source": [
    "def cossenoSimilarity(rating1, rating2):\n",
    "    numerador = 0 #x * y\n",
    "    x_comp = 0 # ||x||\n",
    "    y_comp = 0 # ||y||\n",
    "    for key in rating1:\n",
    "        if key in rating2:\n",
    "            numerador = numerador + (rating1[key]*rating2[key])\n",
    "            x_comp = x_comp + pow(rating1[key], 2)\n",
    "            y_comp = y_comp + pow(rating2[key], 2)\n",
    "    denominador = math.sqrt(x_comp) * math.sqrt(y_comp)\n",
    "    if denominador == 0:\n",
    "        return 0\n",
    "    else:\n",
    "        return numerador / denominador\n",
    "\n",
    "#nearest neighbors from a username function\n",
    "def computeNearestNeighbor(username, users):\n",
    "    distances = []\n",
    "    for user in users:\n",
    "        if user != username:\n",
    "        \tdistance = cossenoSimilarity(users[user], users[username])\n",
    "        \tdistances.append((distance, user))\n",
    "    distances.sort()\n",
    "    return distances\n",
    "print(\"\\n\\n##### VIZINHOS MAIS PRÓXIMOS #####\")  \n",
    "print (computeNearestNeighbor('Lux', users))\n",
    "\n",
    "#reccomender bands to a username function\n",
    "def recommend(username, users):\n",
    "    neighbors = computeNearestNeighbor(username, users)\n",
    "    nearest = neighbors[len(neighbors)-1][1]\n",
    "    print(nearest)\n",
    "    recommendations = []\n",
    "    neighborRatings = users[nearest]\n",
    "    userRatings = users[username]   \n",
    "    for artist in neighborRatings:\n",
    "        if not artist in userRatings:\n",
    "            recommendations.append((artist, neighborRatings[artist]))\n",
    "    return sorted(recommendations, key = lambda artistTuple: artistTuple[1], reverse = True)\n",
    " \n",
    "print(\"\\n\\n##### RECOMENDAÇÃO #####\\n\\n\\n\")  \n",
    "print(recommend('Lux', users))\n"
   ]
  },
  {
   "cell_type": "code",
   "execution_count": null,
   "metadata": {},
   "outputs": [],
   "source": []
  }
 ],
 "metadata": {
  "kernelspec": {
   "display_name": "Python 2",
   "language": "python",
   "name": "python2"
  },
  "language_info": {
   "codemirror_mode": {
    "name": "ipython",
    "version": 2
   },
   "file_extension": ".py",
   "mimetype": "text/x-python",
   "name": "python",
   "nbconvert_exporter": "python",
   "pygments_lexer": "ipython2",
   "version": "2.7.14"
  }
 },
 "nbformat": 4,
 "nbformat_minor": 2
}
